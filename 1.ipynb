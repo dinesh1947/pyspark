{
 "cells": [
  {
   "cell_type": "code",
   "execution_count": 2,
   "id": "8c3e4823-be99-48d5-82f3-097d2496b92a",
   "metadata": {},
   "outputs": [
    {
     "name": "stdout",
     "output_type": "stream",
     "text": [
      "Defaulting to user installation because normal site-packages is not writeable\n",
      "Collecting pyspark\n",
      "  Downloading pyspark-3.5.1.tar.gz (317.0 MB)\n",
      "\u001b[2K     \u001b[38;2;114;156;31m━━━━━━━━━━━━━━━━━━━━━━━━━━━━━━━━━━━━━━━\u001b[0m \u001b[32m317.0/317.0 MB\u001b[0m \u001b[31m3.6 MB/s\u001b[0m eta \u001b[36m0:00:00\u001b[0mm eta \u001b[36m0:00:01\u001b[0m[36m0:00:02\u001b[0m\n",
      "\u001b[?25h  Preparing metadata (setup.py) ... \u001b[?25ldone\n",
      "\u001b[?25hCollecting py4j==0.10.9.7\n",
      "  Using cached py4j-0.10.9.7-py2.py3-none-any.whl (200 kB)\n",
      "Building wheels for collected packages: pyspark\n",
      "  Building wheel for pyspark (setup.py) ... \u001b[?25ldone\n",
      "\u001b[?25h  Created wheel for pyspark: filename=pyspark-3.5.1-py2.py3-none-any.whl size=317488513 sha256=b94a57dfe0bb5259ba0a24d4a7be303f5eb1a801b6e720cb7b8fb082247bb975\n",
      "  Stored in directory: /home/stellar/.cache/pip/wheels/80/1d/60/2c256ed38dddce2fdd93be545214a63e02fbd8d74fb0b7f3a6\n",
      "Successfully built pyspark\n",
      "Installing collected packages: py4j, pyspark\n",
      "Successfully installed py4j-0.10.9.7 pyspark-3.5.1\n"
     ]
    }
   ],
   "source": [
    "!pip install pyspark"
   ]
  },
  {
   "cell_type": "code",
   "execution_count": 3,
   "id": "f06ad8cf-5401-4fbd-9a14-e51174360110",
   "metadata": {},
   "outputs": [],
   "source": [
    "from pyspark.sql import SparkSession"
   ]
  },
  {
   "cell_type": "code",
   "execution_count": 8,
   "id": "fd1a66ec-4aa0-4639-be43-816843d67323",
   "metadata": {},
   "outputs": [],
   "source": [
    "pyspark = SparkSession.builder.appName(\"PySpark_dc\").getOrCreate() "
   ]
  },
  {
   "cell_type": "code",
   "execution_count": 9,
   "id": "3f97d188-6a2d-47a0-9bfe-6cc246a25c23",
   "metadata": {},
   "outputs": [
    {
     "data": {
      "text/html": [
       "\n",
       "            <div>\n",
       "                <p><b>SparkSession - in-memory</b></p>\n",
       "                \n",
       "        <div>\n",
       "            <p><b>SparkContext</b></p>\n",
       "\n",
       "            <p><a href=\"http://192.168.1.42:4040\">Spark UI</a></p>\n",
       "\n",
       "            <dl>\n",
       "              <dt>Version</dt>\n",
       "                <dd><code>v3.5.1</code></dd>\n",
       "              <dt>Master</dt>\n",
       "                <dd><code>local[*]</code></dd>\n",
       "              <dt>AppName</dt>\n",
       "                <dd><code>PySpark_dc</code></dd>\n",
       "            </dl>\n",
       "        </div>\n",
       "        \n",
       "            </div>\n",
       "        "
      ],
      "text/plain": [
       "<pyspark.sql.session.SparkSession at 0x73d971b14b80>"
      ]
     },
     "execution_count": 9,
     "metadata": {},
     "output_type": "execute_result"
    }
   ],
   "source": [
    "pyspark"
   ]
  },
  {
   "cell_type": "code",
   "execution_count": 10,
   "id": "55e36dd3-7a5e-40b5-ba10-87aca5c4b308",
   "metadata": {},
   "outputs": [],
   "source": [
    "df = pyspark.read.csv(\"users.csv\",header = True, inferSchema = True)"
   ]
  },
  {
   "cell_type": "code",
   "execution_count": 5,
   "id": "ae724be3-49f3-4ef6-8fa2-74114f4a8490",
   "metadata": {},
   "outputs": [
    {
     "name": "stdout",
     "output_type": "stream",
     "text": [
      "+---+----------+-------------+--------------------+--------------------+------------+--------+-------------+----------+--------------------+-------+------+---------+--------+--------------------+---------+------+--------------------+--------+\n",
      "| id|    mobile|        email|            password|          last_login|is_superuser|username|    full_name|rollnumber|         forum_email|   role|source|is_active|is_staff|          created_at|email_otp|   otp|          updated_at|  status|\n",
      "+---+----------+-------------+--------------------+--------------------+------------+--------+-------------+----------+--------------------+-------+------+---------+--------+--------------------+---------+------+--------------------+--------+\n",
      "|  1|9999999999|abc@gmail.com|pbkdf2_sha256$600...|2023-12-22 08:08:...|           1|   admin|     dffftttc|     10001|     admin@gmail.com|student|school|        1|       1|2023-06-27 08:45:...|     NULL|  NULL|2023-07-05 13:09:...|  active|\n",
      "|  2|9999999998|bbc@gmail.com|pbkdf2_sha256$600...|                NULL|           1|  admin2|       admin2|     10002|  admin@forumias.com|student|school|        1|       1|2023-06-27 08:45:...|    12345| 12354|2023-06-27 08:49:...|  active|\n",
      "|  3|9999999997|cbc@gmail.com|6652b423f33d1236e...|                NULL|           0| dinesh2| dinesh kumar|     10003|dineshkumar@forum...|student|   asd|        1|       0|2023-06-27 08:49:...|    12345|  asda|2023-07-26 11:17:...|  active|\n",
      "|  4|9999999996|dbc@gmail.com|1866a7b0c1407994a...|2023-07-03 06:19:...|           0|dineshe3|dineesh kumar|     10004|dineeshkumar@foru...|student|school|        1|       0|2023-06-27 09:11:...|    12345|deweff|2023-07-26 10:41:...|inactive|\n",
      "+---+----------+-------------+--------------------+--------------------+------------+--------+-------------+----------+--------------------+-------+------+---------+--------+--------------------+---------+------+--------------------+--------+\n",
      "only showing top 4 rows\n",
      "\n"
     ]
    }
   ],
   "source": [
    "df.show(4)"
   ]
  },
  {
   "cell_type": "code",
   "execution_count": 6,
   "id": "b0e85e28-158f-4e15-82b3-379dd5a5ad27",
   "metadata": {},
   "outputs": [
    {
     "name": "stdout",
     "output_type": "stream",
     "text": [
      "root\n",
      " |-- id: integer (nullable = true)\n",
      " |-- mobile: string (nullable = true)\n",
      " |-- email: string (nullable = true)\n",
      " |-- password: string (nullable = true)\n",
      " |-- last_login: string (nullable = true)\n",
      " |-- is_superuser: integer (nullable = true)\n",
      " |-- username: string (nullable = true)\n",
      " |-- full_name: string (nullable = true)\n",
      " |-- rollnumber: long (nullable = true)\n",
      " |-- forum_email: string (nullable = true)\n",
      " |-- role: string (nullable = true)\n",
      " |-- source: string (nullable = true)\n",
      " |-- is_active: integer (nullable = true)\n",
      " |-- is_staff: integer (nullable = true)\n",
      " |-- created_at: timestamp (nullable = true)\n",
      " |-- email_otp: string (nullable = true)\n",
      " |-- otp: string (nullable = true)\n",
      " |-- updated_at: timestamp (nullable = true)\n",
      " |-- status: string (nullable = true)\n",
      "\n"
     ]
    }
   ],
   "source": [
    "df.printSchema()"
   ]
  },
  {
   "cell_type": "code",
   "execution_count": 7,
   "id": "fc48ee93-a3a3-474b-95a8-894a9f9b9dcb",
   "metadata": {},
   "outputs": [
    {
     "data": {
      "text/plain": [
       "['id',\n",
       " 'mobile',\n",
       " 'email',\n",
       " 'password',\n",
       " 'last_login',\n",
       " 'is_superuser',\n",
       " 'username',\n",
       " 'full_name',\n",
       " 'rollnumber',\n",
       " 'forum_email',\n",
       " 'role',\n",
       " 'source',\n",
       " 'is_active',\n",
       " 'is_staff',\n",
       " 'created_at',\n",
       " 'email_otp',\n",
       " 'otp',\n",
       " 'updated_at',\n",
       " 'status']"
      ]
     },
     "execution_count": 7,
     "metadata": {},
     "output_type": "execute_result"
    }
   ],
   "source": [
    "df.columns"
   ]
  },
  {
   "cell_type": "code",
   "execution_count": 8,
   "id": "261125f2-4ab5-49bd-86ef-a3fbc9ab173b",
   "metadata": {},
   "outputs": [
    {
     "name": "stdout",
     "output_type": "stream",
     "text": [
      "+---+--------------------+---------------+\n",
      "| id|              mobile|      full_name|\n",
      "+---+--------------------+---------------+\n",
      "|  1|          9999999999|       dffftttc|\n",
      "|  2|          9999999998|         admin2|\n",
      "|  3|          9999999997|   dinesh kumar|\n",
      "|  4|          9999999996|  dineesh kumar|\n",
      "|  5|          9310195987|dinteshrr kumar|\n",
      "| 10|          9999999994| testdint kumar|\n",
      "| 11|          9999999993|testwdint kumar|\n",
      "| 12|          9999999992|     addsfsdmin|\n",
      "| 13|          9999999990|  addsdfsfsdmin|\n",
      "| 14|          9999999988|    addfsfsdmin|\n",
      "| 15|          9310195922|           Ajay|\n",
      "| 16|          9310195911|       sd kumar|\n",
      "| 17|          9310195901|       sd kumar|\n",
      "| 18|          9310195902|       sd kumar|\n",
      "| 19|          9310195986|       sd kumar|\n",
      "| 21|b'gAAAAABko-ef8d9...|       sd kumar|\n",
      "| 22|b'gAAAAABko-qQGZc...|       sd kumar|\n",
      "| 23|b'gAAAAABko-rRkhn...|       sd kumar|\n",
      "| 24|b'gAAAAABko_aOhf5...|       sd kumar|\n",
      "| 25|b'gAAAAABko_jD52P...|       sd kumar|\n",
      "+---+--------------------+---------------+\n",
      "only showing top 20 rows\n",
      "\n"
     ]
    }
   ],
   "source": [
    "df.select(\"id\",\"mobile\",\"full_name\").show()"
   ]
  },
  {
   "cell_type": "code",
   "execution_count": 9,
   "id": "e4c49f79-98e1-4e7e-b58f-7f7c38f53dba",
   "metadata": {},
   "outputs": [
    {
     "name": "stdout",
     "output_type": "stream",
     "text": [
      "+---+--------------------+---------------+\n",
      "| id|              mobile|      full_name|\n",
      "+---+--------------------+---------------+\n",
      "|  1|          9999999999|       dffftttc|\n",
      "|  2|          9999999998|         admin2|\n",
      "|  3|          9999999997|   dinesh kumar|\n",
      "|  4|          9999999996|  dineesh kumar|\n",
      "|  5|          9310195987|dinteshrr kumar|\n",
      "| 10|          9999999994| testdint kumar|\n",
      "| 11|          9999999993|testwdint kumar|\n",
      "| 12|          9999999992|     addsfsdmin|\n",
      "| 13|          9999999990|  addsdfsfsdmin|\n",
      "| 14|          9999999988|    addfsfsdmin|\n",
      "| 15|          9310195922|           Ajay|\n",
      "| 16|          9310195911|       sd kumar|\n",
      "| 17|          9310195901|       sd kumar|\n",
      "| 18|          9310195902|       sd kumar|\n",
      "| 19|          9310195986|       sd kumar|\n",
      "| 21|b'gAAAAABko-ef8d9...|       sd kumar|\n",
      "| 22|b'gAAAAABko-qQGZc...|       sd kumar|\n",
      "| 23|b'gAAAAABko-rRkhn...|       sd kumar|\n",
      "| 24|b'gAAAAABko_aOhf5...|       sd kumar|\n",
      "| 25|b'gAAAAABko_jD52P...|       sd kumar|\n",
      "+---+--------------------+---------------+\n",
      "only showing top 20 rows\n",
      "\n"
     ]
    }
   ],
   "source": [
    "df.select(df.id,df.mobile,df.full_name).show()"
   ]
  },
  {
   "cell_type": "code",
   "execution_count": 10,
   "id": "99a96e92-298e-4c71-b4e4-a3d84b148d6b",
   "metadata": {},
   "outputs": [
    {
     "name": "stdout",
     "output_type": "stream",
     "text": [
      "+---+--------------------+---------------+\n",
      "| id|              mobile|      full_name|\n",
      "+---+--------------------+---------------+\n",
      "|  1|          9999999999|       dffftttc|\n",
      "|  2|          9999999998|         admin2|\n",
      "|  3|          9999999997|   dinesh kumar|\n",
      "|  4|          9999999996|  dineesh kumar|\n",
      "|  5|          9310195987|dinteshrr kumar|\n",
      "| 10|          9999999994| testdint kumar|\n",
      "| 11|          9999999993|testwdint kumar|\n",
      "| 12|          9999999992|     addsfsdmin|\n",
      "| 13|          9999999990|  addsdfsfsdmin|\n",
      "| 14|          9999999988|    addfsfsdmin|\n",
      "| 15|          9310195922|           Ajay|\n",
      "| 16|          9310195911|       sd kumar|\n",
      "| 17|          9310195901|       sd kumar|\n",
      "| 18|          9310195902|       sd kumar|\n",
      "| 19|          9310195986|       sd kumar|\n",
      "| 21|b'gAAAAABko-ef8d9...|       sd kumar|\n",
      "| 22|b'gAAAAABko-qQGZc...|       sd kumar|\n",
      "| 23|b'gAAAAABko-rRkhn...|       sd kumar|\n",
      "| 24|b'gAAAAABko_aOhf5...|       sd kumar|\n",
      "| 25|b'gAAAAABko_jD52P...|       sd kumar|\n",
      "+---+--------------------+---------------+\n",
      "only showing top 20 rows\n",
      "\n"
     ]
    }
   ],
   "source": [
    "from pyspark.sql.functions import col\n",
    "df.select(col(\"id\"),col(\"mobile\"),col(\"full_name\")).show()"
   ]
  },
  {
   "cell_type": "code",
   "execution_count": 11,
   "id": "a226f5eb-b165-4f3c-a0b5-125aef7710ab",
   "metadata": {},
   "outputs": [
    {
     "data": {
      "text/plain": [
       "[('id', 'int'),\n",
       " ('mobile', 'string'),\n",
       " ('email', 'string'),\n",
       " ('password', 'string'),\n",
       " ('last_login', 'string'),\n",
       " ('is_superuser', 'int'),\n",
       " ('username', 'string'),\n",
       " ('full_name', 'string'),\n",
       " ('rollnumber', 'bigint'),\n",
       " ('forum_email', 'string'),\n",
       " ('role', 'string'),\n",
       " ('source', 'string'),\n",
       " ('is_active', 'int'),\n",
       " ('is_staff', 'int'),\n",
       " ('created_at', 'timestamp'),\n",
       " ('email_otp', 'string'),\n",
       " ('otp', 'string'),\n",
       " ('updated_at', 'timestamp'),\n",
       " ('status', 'string')]"
      ]
     },
     "execution_count": 11,
     "metadata": {},
     "output_type": "execute_result"
    }
   ],
   "source": [
    "df.dtypes"
   ]
  },
  {
   "cell_type": "code",
   "execution_count": 12,
   "id": "47a7b560-e39f-49f2-bcfa-9305d80960d0",
   "metadata": {},
   "outputs": [
    {
     "data": {
      "text/plain": [
       "DataFrame[summary: string, id: string, mobile: string, email: string, password: string, last_login: string, is_superuser: string, username: string, full_name: string, rollnumber: string, forum_email: string, role: string, source: string, is_active: string, is_staff: string, email_otp: string, otp: string, status: string]"
      ]
     },
     "execution_count": 12,
     "metadata": {},
     "output_type": "execute_result"
    }
   ],
   "source": [
    "df.describe()"
   ]
  },
  {
   "cell_type": "code",
   "execution_count": 13,
   "id": "e4c4256a-1f19-4ed5-90b0-6ceee3efc187",
   "metadata": {},
   "outputs": [
    {
     "name": "stderr",
     "output_type": "stream",
     "text": [
      "24/01/03 01:01:22 WARN SparkStringUtils: Truncated the string representation of a plan since it was too large. This behavior can be adjusted by setting 'spark.sql.debug.maxToStringFields'.\n",
      "[Stage 8:>                                                          (0 + 1) / 1]\r"
     ]
    },
    {
     "name": "stdout",
     "output_type": "stream",
     "text": [
      "+-------+-----------------+--------------------+--------------------+--------------------+--------------------+--------------------+--------------------+-------------+--------------------+--------------------+-------+------+---------+--------------------+------------------+------------------+--------+\n",
      "|summary|               id|              mobile|               email|            password|          last_login|        is_superuser|            username|    full_name|          rollnumber|         forum_email|   role|source|is_active|            is_staff|         email_otp|               otp|  status|\n",
      "+-------+-----------------+--------------------+--------------------+--------------------+--------------------+--------------------+--------------------+-------------+--------------------+--------------------+-------+------+---------+--------------------+------------------+------------------+--------+\n",
      "|  count|              454|                 454|                 454|                 454|                 454|                 454|                 454|          454|                 454|                 454|    454|   454|      454|                 454|               454|               454|     454|\n",
      "|   mean|563.0374449339207| 8.767462545580645E9|                NULL|    8.238411738875E9|                NULL|0.006607929515418502|                NULL|         NULL|1.9384931480264318E9|                NULL|   NULL|  NULL|      1.0|0.006607929515418502|        416094.625|34600.666666666664|    NULL|\n",
      "| stddev|670.5577665209616| 9.801137517640316E8|                NULL|  7.88946134205386E8|                NULL| 0.08110952739150148|                NULL|         NULL| 8.030280832711407E8|                NULL|   NULL|  NULL|      0.0| 0.08110952739150148|1141976.3909561024| 26929.28603336276|    NULL|\n",
      "|    min|                1|          6000987042|01hrishikesh@gmai...|01febe9a81bf046e1...|2023-07-03 06:19:...|                   0|           17PH40046|ADITI DWIVEDI|               10001|17PH40046@forumia...|  admin|  NULL|        1|                   0|             12345|             12345|  active|\n",
      "|    max|             2401|gAAAAABkppBlIHjAQ...|yogeshadabe143@gm...|pbkdf2_sha256$600...|                NULL|                   1|yogeshadabe1439zlf0p|      varshaa|          9910107371|yogeshadabe1439zl...|student|school|        1|                   1|              adsf|          fdgadesf|inactive|\n",
      "+-------+-----------------+--------------------+--------------------+--------------------+--------------------+--------------------+--------------------+-------------+--------------------+--------------------+-------+------+---------+--------------------+------------------+------------------+--------+\n",
      "\n"
     ]
    },
    {
     "name": "stderr",
     "output_type": "stream",
     "text": [
      "                                                                                \r"
     ]
    }
   ],
   "source": [
    "df.describe().show(5)"
   ]
  },
  {
   "cell_type": "code",
   "execution_count": 14,
   "id": "88ccba52-a61b-4ca9-bfe6-f49839efa748",
   "metadata": {},
   "outputs": [
    {
     "name": "stdout",
     "output_type": "stream",
     "text": [
      "+---+--------------------+--------------------+--------------------+--------------------+------------+--------------------+---------------+----------+--------------------+-------+-----------+---------+--------+--------------------+---------+--------+--------------------+--------+--------------------+\n",
      "| id|              mobile|               email|            password|          last_login|is_superuser|            username|      full_name|rollnumber|         forum_email|   role|     source|is_active|is_staff|          created_at|email_otp|     otp|          updated_at|  status|            new_name|\n",
      "+---+--------------------+--------------------+--------------------+--------------------+------------+--------------------+---------------+----------+--------------------+-------+-----------+---------+--------+--------------------+---------+--------+--------------------+--------+--------------------+\n",
      "|  1|          9999999999|       abc@gmail.com|pbkdf2_sha256$600...|2023-12-22 08:08:...|           1|               admin|       dffftttc|     10001|     admin@gmail.com|student|     school|        1|       1|2023-06-27 08:45:...|     NULL|    NULL|2023-07-05 13:09:...|  active|       abc@gmail.com|\n",
      "|  2|          9999999998|       bbc@gmail.com|pbkdf2_sha256$600...|                NULL|           1|              admin2|         admin2|     10002|  admin@forumias.com|student|     school|        1|       1|2023-06-27 08:45:...|    12345|   12354|2023-06-27 08:49:...|  active|       bbc@gmail.com|\n",
      "|  3|          9999999997|       cbc@gmail.com|6652b423f33d1236e...|                NULL|           0|             dinesh2|   dinesh kumar|     10003|dineshkumar@forum...|student|        asd|        1|       0|2023-06-27 08:49:...|    12345|    asda|2023-07-26 11:17:...|  active|       cbc@gmail.com|\n",
      "|  4|          9999999996|       dbc@gmail.com|1866a7b0c1407994a...|2023-07-03 06:19:...|           0|            dineshe3|  dineesh kumar|     10004|dineeshkumar@foru...|student|     school|        1|       0|2023-06-27 09:11:...|    12345|  deweff|2023-07-26 10:41:...|inactive|       dbc@gmail.com|\n",
      "|  5|          9310195987|cietdinesh@gmail.com|e4d09637e0ddbb2ed...|                NULL|           0|        dineshrrtrr4|dinteshrr kumar|     10005|dinteshrrkumar@fo...|student|     school|        1|       0|2023-06-28 05:24:...|     adsf|fdgadesf|2023-09-14 08:58:...|  active|cietdinesh@gmail.com|\n",
      "| 10|          9999999994|       fbc@gmail.com|3c18aedca8511f2a5...|                NULL|           0|               Test5| testdint kumar|     10006|testdintkumar@for...|student|       NULL|        1|       0|2023-06-30 07:40:...|     NULL|    NULL|2023-06-30 07:40:...|  active|       fbc@gmail.com|\n",
      "| 11|          9999999993|     hhfbc@gmail.com|2a37676503667e61f...|2023-07-03 11:13:...|           0|             Testw10|testwdint kumar|     10007|testwdintkumar@fo...|student|       NULL|        1|       0|2023-06-30 07:48:...|     NULL|    NULL|2023-07-03 11:13:...|  active|     hhfbc@gmail.com|\n",
      "| 12|          9999999992|       gbc@gmail.com|cecb3e77ecc2e3cc2...|                NULL|           0|        asdfsddmin11|     addsfsdmin|     10008|addsfsdmin@forumi...|student|Old Academy|        1|       0|2023-07-03 10:37:...|     NULL|    NULL|2023-07-03 10:37:...|  active|       gbc@gmail.com|\n",
      "| 13|          9999999990|       hbc@gmail.com|59837b4d950a6552a...|                NULL|           0|     asdfsdsdfdmin12|  addsdfsfsdmin|     10009|addsdfsfsdmin@for...|student|Old Academy|        1|       0|2023-07-03 10:42:...|     NULL|    NULL|2023-07-03 10:42:...|  active|       hbc@gmail.com|\n",
      "| 14|          9999999988|       ibc@gmail.com|925f9d20af881beb9...|                NULL|           0|       asdfsdfdmin13|    addfsfsdmin|     10010|addfsfsdmin@forum...|student|Old Academy|        1|       0|2023-07-03 10:42:...|     NULL|    NULL|2023-07-03 10:42:...|  active|       ibc@gmail.com|\n",
      "| 15|          9310195922|ajaysiddharthkovi...|1f2bb5e8433e07a07...|2023-07-04 07:49:...|           0|ajaysiddharthkovi...|           Ajay|1910096705|ajaysiddharthkovi...|student|Old Academy|        1|       0|2023-07-04 07:49:...|     NULL|    NULL|2023-07-04 07:49:...|  active|ajaysiddharthkovi...|\n",
      "| 16|          9310195911|dinesdsssfasdhk@g...|aab3bcdc6d034a835...|                NULL|           0|   dinesdsssfasdhk15|       sd kumar|1910096706|sdkumar@forumias.com|student|       NULL|        1|       0|2023-07-04 08:00:...|     NULL|    NULL|2023-07-04 08:00:...|  active|dinesdsssfasdhk@g...|\n",
      "| 17|          9310195901|dinesdssdfsssdfas...|1bc5bfaaeb83f5436...|                NULL|           0|dinesdssdfsssdfas...|       sd kumar|1910096707|sdkumar16@forumia...|student|       NULL|        1|       0|2023-07-04 08:04:...|     NULL|    NULL|2023-07-04 08:04:...|  active|dinesdssdfsssdfas...|\n",
      "| 18|          9310195902|       kks@gmail.com|092bc8b73bcb7312c...|                NULL|           0|               kks17|       sd kumar|1910096708|sdkumar17@forumia...|student|       NULL|        1|       0|2023-07-04 08:08:...|     NULL|    NULL|2023-07-04 08:08:...|  active|       kks@gmail.com|\n",
      "| 19|          9310195986|     kkrsi@gmail.com|d7d591ca81bfb3e65...|2023-07-04 08:30:...|           0|             kkrsi18|       sd kumar|1910096709|sdkumar18@forumia...|student|     school|        1|       0|2023-07-04 08:26:...|    12345|   37187|2023-07-31 06:21:...|  active|     kkrsi@gmail.com|\n",
      "| 21|b'gAAAAABko-ef8d9...|        mk@gmail.com|a64d17fb80232302f...|                NULL|           0|                mk20|       sd kumar|1910096711|sdkumar20@forumia...|student|       NULL|        1|       0|2023-07-04 09:34:...|     NULL|    NULL|2023-07-04 09:34:...|  active|        mk@gmail.com|\n",
      "| 22|b'gAAAAABko-qQGZc...|       mky@gmail.com|b872fe47ca92cdf06...|                NULL|           0|               mky21|       sd kumar|1910096712|sdkumar21@forumia...|student|       NULL|        1|       0|2023-07-04 09:46:...|     NULL|    NULL|2023-07-04 09:46:...|  active|       mky@gmail.com|\n",
      "| 23|b'gAAAAABko-rRkhn...|      dmky@gmail.com|85ebc4911596ca363...|                NULL|           0|              dmky22|       sd kumar|1910096713|sdkumar22@forumia...|student|       NULL|        1|       0|2023-07-04 09:48:...|     NULL|    NULL|2023-07-04 09:48:...|  active|      dmky@gmail.com|\n",
      "| 24|b'gAAAAABko_aOhf5...|       dmo@gmail.com|c94c45399855fbf0f...|                NULL|           0|               dmo23|       sd kumar|1910096714|sdkumar23@forumia...|student|       NULL|        1|       0|2023-07-04 10:38:...|     NULL|    NULL|2023-07-04 10:38:...|  active|       dmo@gmail.com|\n",
      "| 25|b'gAAAAABko_jD52P...|      dmoo@gmail.com|c38bf35a0becd70d1...|                NULL|           0|              dmoo24|       sd kumar|1910096715|sdkumar24@forumia...|student|       NULL|        1|       0|2023-07-04 10:47:...|     NULL|    NULL|2023-07-04 10:47:...|  active|      dmoo@gmail.com|\n",
      "+---+--------------------+--------------------+--------------------+--------------------+------------+--------------------+---------------+----------+--------------------+-------+-----------+---------+--------+--------------------+---------+--------+--------------------+--------+--------------------+\n",
      "only showing top 20 rows\n",
      "\n"
     ]
    }
   ],
   "source": [
    "df.withColumn(\"new_name\",col(\"email\")).show()"
   ]
  },
  {
   "cell_type": "code",
   "execution_count": 15,
   "id": "e016c234-4b61-4c4f-99b9-14e048d2daf3",
   "metadata": {},
   "outputs": [
    {
     "name": "stdout",
     "output_type": "stream",
     "text": [
      "+---+----------+-------------+--------------------+--------------------+------------+--------+-------------+----------+--------------------+-------+------+---------+--------+--------------------+---------+------+--------------------+--------+-------------+\n",
      "| id|    mobile|        email|            password|          last_login|is_superuser|username|    full_name|rollnumber|         forum_email|   role|source|is_active|is_staff|          created_at|email_otp|   otp|          updated_at|  status|     new_name|\n",
      "+---+----------+-------------+--------------------+--------------------+------------+--------+-------------+----------+--------------------+-------+------+---------+--------+--------------------+---------+------+--------------------+--------+-------------+\n",
      "|  1|9999999999|abc@gmail.com|pbkdf2_sha256$600...|2023-12-22 08:08:...|           1|   admin|     dffftttc|     10001|     admin@gmail.com|student|school|        1|       1|2023-06-27 08:45:...|     NULL|  NULL|2023-07-05 13:09:...|  active|abc@gmail.com|\n",
      "|  2|9999999998|bbc@gmail.com|pbkdf2_sha256$600...|                NULL|           1|  admin2|       admin2|     10002|  admin@forumias.com|student|school|        1|       1|2023-06-27 08:45:...|    12345| 12354|2023-06-27 08:49:...|  active|bbc@gmail.com|\n",
      "|  3|9999999997|cbc@gmail.com|6652b423f33d1236e...|                NULL|           0| dinesh2| dinesh kumar|     10003|dineshkumar@forum...|student|   asd|        1|       0|2023-06-27 08:49:...|    12345|  asda|2023-07-26 11:17:...|  active|cbc@gmail.com|\n",
      "|  4|9999999996|dbc@gmail.com|1866a7b0c1407994a...|2023-07-03 06:19:...|           0|dineshe3|dineesh kumar|     10004|dineeshkumar@foru...|student|school|        1|       0|2023-06-27 09:11:...|    12345|deweff|2023-07-26 10:41:...|inactive|dbc@gmail.com|\n",
      "+---+----------+-------------+--------------------+--------------------+------------+--------+-------------+----------+--------------------+-------+------+---------+--------+--------------------+---------+------+--------------------+--------+-------------+\n",
      "only showing top 4 rows\n",
      "\n"
     ]
    }
   ],
   "source": [
    "df.withColumn(\"new_name\",df.email).show(4)"
   ]
  },
  {
   "cell_type": "code",
   "execution_count": 16,
   "id": "f043ff5e-37ec-49d9-9476-7fa90a99d22f",
   "metadata": {},
   "outputs": [
    {
     "name": "stdout",
     "output_type": "stream",
     "text": [
      "+---+----------+-------------+--------------------+--------------------+------------+--------+-------------+----------+--------------------+-------+------+---------+--------+--------------------+---------+------+--------------------+--------+-------------+\n",
      "| id|    mobile|        email|            password|          last_login|is_superuser|username|    full_name|rollnumber|         forum_email|   role|source|is_active|is_staff|          created_at|email_otp|   otp|          updated_at|  status|     new_name|\n",
      "+---+----------+-------------+--------------------+--------------------+------------+--------+-------------+----------+--------------------+-------+------+---------+--------+--------------------+---------+------+--------------------+--------+-------------+\n",
      "|  1|9999999999|abc@gmail.com|pbkdf2_sha256$600...|2023-12-22 08:08:...|           1|   admin|     dffftttc|     10001|     admin@gmail.com|student|school|        1|       1|2023-06-27 08:45:...|     NULL|  NULL|2023-07-05 13:09:...|  active|abc@gmail.com|\n",
      "|  2|9999999998|bbc@gmail.com|pbkdf2_sha256$600...|                NULL|           1|  admin2|       admin2|     10002|  admin@forumias.com|student|school|        1|       1|2023-06-27 08:45:...|    12345| 12354|2023-06-27 08:49:...|  active|bbc@gmail.com|\n",
      "|  3|9999999997|cbc@gmail.com|6652b423f33d1236e...|                NULL|           0| dinesh2| dinesh kumar|     10003|dineshkumar@forum...|student|   asd|        1|       0|2023-06-27 08:49:...|    12345|  asda|2023-07-26 11:17:...|  active|cbc@gmail.com|\n",
      "|  4|9999999996|dbc@gmail.com|1866a7b0c1407994a...|2023-07-03 06:19:...|           0|dineshe3|dineesh kumar|     10004|dineeshkumar@foru...|student|school|        1|       0|2023-06-27 09:11:...|    12345|deweff|2023-07-26 10:41:...|inactive|dbc@gmail.com|\n",
      "+---+----------+-------------+--------------------+--------------------+------------+--------+-------------+----------+--------------------+-------+------+---------+--------+--------------------+---------+------+--------------------+--------+-------------+\n",
      "only showing top 4 rows\n",
      "\n"
     ]
    }
   ],
   "source": [
    "df.withColumn(\"new_name\",df[\"email\"]).show(4)"
   ]
  },
  {
   "cell_type": "code",
   "execution_count": 17,
   "id": "7caa43e0-5cd9-4f53-a0e0-a378235bba7a",
   "metadata": {},
   "outputs": [],
   "source": [
    "df = df.drop(\"last_login\",\"is_active\",\"created_at\",\"updated_at\",\"status\",\"source\",\"forum_email\",\"role\")"
   ]
  },
  {
   "cell_type": "code",
   "execution_count": 18,
   "id": "aabcb13c-caea-4d62-b70d-b00dad08e787",
   "metadata": {},
   "outputs": [
    {
     "name": "stdout",
     "output_type": "stream",
     "text": [
      "+---+--------------------+--------------------+--------------------+------------+--------------------+---------------+----------+--------+---------+--------+\n",
      "| id|              mobile|               email|            password|is_superuser|            username|      full_name|rollnumber|is_staff|email_otp|     otp|\n",
      "+---+--------------------+--------------------+--------------------+------------+--------------------+---------------+----------+--------+---------+--------+\n",
      "|  1|          9999999999|       abc@gmail.com|pbkdf2_sha256$600...|           1|               admin|       dffftttc|     10001|       1|     NULL|    NULL|\n",
      "|  2|          9999999998|       bbc@gmail.com|pbkdf2_sha256$600...|           1|              admin2|         admin2|     10002|       1|    12345|   12354|\n",
      "|  3|          9999999997|       cbc@gmail.com|6652b423f33d1236e...|           0|             dinesh2|   dinesh kumar|     10003|       0|    12345|    asda|\n",
      "|  4|          9999999996|       dbc@gmail.com|1866a7b0c1407994a...|           0|            dineshe3|  dineesh kumar|     10004|       0|    12345|  deweff|\n",
      "|  5|          9310195987|cietdinesh@gmail.com|e4d09637e0ddbb2ed...|           0|        dineshrrtrr4|dinteshrr kumar|     10005|       0|     adsf|fdgadesf|\n",
      "| 10|          9999999994|       fbc@gmail.com|3c18aedca8511f2a5...|           0|               Test5| testdint kumar|     10006|       0|     NULL|    NULL|\n",
      "| 11|          9999999993|     hhfbc@gmail.com|2a37676503667e61f...|           0|             Testw10|testwdint kumar|     10007|       0|     NULL|    NULL|\n",
      "| 12|          9999999992|       gbc@gmail.com|cecb3e77ecc2e3cc2...|           0|        asdfsddmin11|     addsfsdmin|     10008|       0|     NULL|    NULL|\n",
      "| 13|          9999999990|       hbc@gmail.com|59837b4d950a6552a...|           0|     asdfsdsdfdmin12|  addsdfsfsdmin|     10009|       0|     NULL|    NULL|\n",
      "| 14|          9999999988|       ibc@gmail.com|925f9d20af881beb9...|           0|       asdfsdfdmin13|    addfsfsdmin|     10010|       0|     NULL|    NULL|\n",
      "| 15|          9310195922|ajaysiddharthkovi...|1f2bb5e8433e07a07...|           0|ajaysiddharthkovi...|           Ajay|1910096705|       0|     NULL|    NULL|\n",
      "| 16|          9310195911|dinesdsssfasdhk@g...|aab3bcdc6d034a835...|           0|   dinesdsssfasdhk15|       sd kumar|1910096706|       0|     NULL|    NULL|\n",
      "| 17|          9310195901|dinesdssdfsssdfas...|1bc5bfaaeb83f5436...|           0|dinesdssdfsssdfas...|       sd kumar|1910096707|       0|     NULL|    NULL|\n",
      "| 18|          9310195902|       kks@gmail.com|092bc8b73bcb7312c...|           0|               kks17|       sd kumar|1910096708|       0|     NULL|    NULL|\n",
      "| 19|          9310195986|     kkrsi@gmail.com|d7d591ca81bfb3e65...|           0|             kkrsi18|       sd kumar|1910096709|       0|    12345|   37187|\n",
      "| 21|b'gAAAAABko-ef8d9...|        mk@gmail.com|a64d17fb80232302f...|           0|                mk20|       sd kumar|1910096711|       0|     NULL|    NULL|\n",
      "| 22|b'gAAAAABko-qQGZc...|       mky@gmail.com|b872fe47ca92cdf06...|           0|               mky21|       sd kumar|1910096712|       0|     NULL|    NULL|\n",
      "| 23|b'gAAAAABko-rRkhn...|      dmky@gmail.com|85ebc4911596ca363...|           0|              dmky22|       sd kumar|1910096713|       0|     NULL|    NULL|\n",
      "| 24|b'gAAAAABko_aOhf5...|       dmo@gmail.com|c94c45399855fbf0f...|           0|               dmo23|       sd kumar|1910096714|       0|     NULL|    NULL|\n",
      "| 25|b'gAAAAABko_jD52P...|      dmoo@gmail.com|c38bf35a0becd70d1...|           0|              dmoo24|       sd kumar|1910096715|       0|     NULL|    NULL|\n",
      "+---+--------------------+--------------------+--------------------+------------+--------------------+---------------+----------+--------+---------+--------+\n",
      "only showing top 20 rows\n",
      "\n"
     ]
    }
   ],
   "source": [
    "df.show()"
   ]
  },
  {
   "cell_type": "code",
   "execution_count": 19,
   "id": "08f4762e-0afa-44c4-9439-ba5c66ed45ce",
   "metadata": {},
   "outputs": [],
   "source": [
    "df = df.drop(\"password\",\"is_staff\", \"email_otp\",\"otp\")"
   ]
  },
  {
   "cell_type": "code",
   "execution_count": 20,
   "id": "a94f20b8-7981-4f10-88e8-d4a4769f8cac",
   "metadata": {},
   "outputs": [
    {
     "name": "stdout",
     "output_type": "stream",
     "text": [
      "+---+--------------------+--------------------+------------+--------------------+---------------+----------+\n",
      "| id|              mobile|               email|is_superuser|            username|      full_name|rollnumber|\n",
      "+---+--------------------+--------------------+------------+--------------------+---------------+----------+\n",
      "|  1|          9999999999|       abc@gmail.com|           1|               admin|       dffftttc|     10001|\n",
      "|  2|          9999999998|       bbc@gmail.com|           1|              admin2|         admin2|     10002|\n",
      "|  3|          9999999997|       cbc@gmail.com|           0|             dinesh2|   dinesh kumar|     10003|\n",
      "|  4|          9999999996|       dbc@gmail.com|           0|            dineshe3|  dineesh kumar|     10004|\n",
      "|  5|          9310195987|cietdinesh@gmail.com|           0|        dineshrrtrr4|dinteshrr kumar|     10005|\n",
      "| 10|          9999999994|       fbc@gmail.com|           0|               Test5| testdint kumar|     10006|\n",
      "| 11|          9999999993|     hhfbc@gmail.com|           0|             Testw10|testwdint kumar|     10007|\n",
      "| 12|          9999999992|       gbc@gmail.com|           0|        asdfsddmin11|     addsfsdmin|     10008|\n",
      "| 13|          9999999990|       hbc@gmail.com|           0|     asdfsdsdfdmin12|  addsdfsfsdmin|     10009|\n",
      "| 14|          9999999988|       ibc@gmail.com|           0|       asdfsdfdmin13|    addfsfsdmin|     10010|\n",
      "| 15|          9310195922|ajaysiddharthkovi...|           0|ajaysiddharthkovi...|           Ajay|1910096705|\n",
      "| 16|          9310195911|dinesdsssfasdhk@g...|           0|   dinesdsssfasdhk15|       sd kumar|1910096706|\n",
      "| 17|          9310195901|dinesdssdfsssdfas...|           0|dinesdssdfsssdfas...|       sd kumar|1910096707|\n",
      "| 18|          9310195902|       kks@gmail.com|           0|               kks17|       sd kumar|1910096708|\n",
      "| 19|          9310195986|     kkrsi@gmail.com|           0|             kkrsi18|       sd kumar|1910096709|\n",
      "| 21|b'gAAAAABko-ef8d9...|        mk@gmail.com|           0|                mk20|       sd kumar|1910096711|\n",
      "| 22|b'gAAAAABko-qQGZc...|       mky@gmail.com|           0|               mky21|       sd kumar|1910096712|\n",
      "| 23|b'gAAAAABko-rRkhn...|      dmky@gmail.com|           0|              dmky22|       sd kumar|1910096713|\n",
      "| 24|b'gAAAAABko_aOhf5...|       dmo@gmail.com|           0|               dmo23|       sd kumar|1910096714|\n",
      "| 25|b'gAAAAABko_jD52P...|      dmoo@gmail.com|           0|              dmoo24|       sd kumar|1910096715|\n",
      "+---+--------------------+--------------------+------------+--------------------+---------------+----------+\n",
      "only showing top 20 rows\n",
      "\n"
     ]
    }
   ],
   "source": [
    "df.show()"
   ]
  },
  {
   "cell_type": "code",
   "execution_count": 21,
   "id": "f30917cd-e494-4197-b115-c22ffb661620",
   "metadata": {},
   "outputs": [],
   "source": [
    "df = df.withColumnRenamed(\"full_name\",\"name\")"
   ]
  },
  {
   "cell_type": "code",
   "execution_count": 22,
   "id": "32a3dc48-e76a-4187-bccc-dba19bc3cd0b",
   "metadata": {},
   "outputs": [
    {
     "name": "stdout",
     "output_type": "stream",
     "text": [
      "+---+--------------------+--------------------+------------+--------------------+---------------+----------+\n",
      "| id|              mobile|               email|is_superuser|            username|           name|rollnumber|\n",
      "+---+--------------------+--------------------+------------+--------------------+---------------+----------+\n",
      "|  1|          9999999999|       abc@gmail.com|           1|               admin|       dffftttc|     10001|\n",
      "|  2|          9999999998|       bbc@gmail.com|           1|              admin2|         admin2|     10002|\n",
      "|  3|          9999999997|       cbc@gmail.com|           0|             dinesh2|   dinesh kumar|     10003|\n",
      "|  4|          9999999996|       dbc@gmail.com|           0|            dineshe3|  dineesh kumar|     10004|\n",
      "|  5|          9310195987|cietdinesh@gmail.com|           0|        dineshrrtrr4|dinteshrr kumar|     10005|\n",
      "| 10|          9999999994|       fbc@gmail.com|           0|               Test5| testdint kumar|     10006|\n",
      "| 11|          9999999993|     hhfbc@gmail.com|           0|             Testw10|testwdint kumar|     10007|\n",
      "| 12|          9999999992|       gbc@gmail.com|           0|        asdfsddmin11|     addsfsdmin|     10008|\n",
      "| 13|          9999999990|       hbc@gmail.com|           0|     asdfsdsdfdmin12|  addsdfsfsdmin|     10009|\n",
      "| 14|          9999999988|       ibc@gmail.com|           0|       asdfsdfdmin13|    addfsfsdmin|     10010|\n",
      "| 15|          9310195922|ajaysiddharthkovi...|           0|ajaysiddharthkovi...|           Ajay|1910096705|\n",
      "| 16|          9310195911|dinesdsssfasdhk@g...|           0|   dinesdsssfasdhk15|       sd kumar|1910096706|\n",
      "| 17|          9310195901|dinesdssdfsssdfas...|           0|dinesdssdfsssdfas...|       sd kumar|1910096707|\n",
      "| 18|          9310195902|       kks@gmail.com|           0|               kks17|       sd kumar|1910096708|\n",
      "| 19|          9310195986|     kkrsi@gmail.com|           0|             kkrsi18|       sd kumar|1910096709|\n",
      "| 21|b'gAAAAABko-ef8d9...|        mk@gmail.com|           0|                mk20|       sd kumar|1910096711|\n",
      "| 22|b'gAAAAABko-qQGZc...|       mky@gmail.com|           0|               mky21|       sd kumar|1910096712|\n",
      "| 23|b'gAAAAABko-rRkhn...|      dmky@gmail.com|           0|              dmky22|       sd kumar|1910096713|\n",
      "| 24|b'gAAAAABko_aOhf5...|       dmo@gmail.com|           0|               dmo23|       sd kumar|1910096714|\n",
      "| 25|b'gAAAAABko_jD52P...|      dmoo@gmail.com|           0|              dmoo24|       sd kumar|1910096715|\n",
      "+---+--------------------+--------------------+------------+--------------------+---------------+----------+\n",
      "only showing top 20 rows\n",
      "\n"
     ]
    }
   ],
   "source": [
    "df.show()"
   ]
  },
  {
   "cell_type": "code",
   "execution_count": 31,
   "id": "372a33fd-822e-41d3-bb91-b8ea916206cd",
   "metadata": {},
   "outputs": [],
   "source": [
    "df = spark.read.csv(\"users.csv\",header = True, inferSchema = True)"
   ]
  },
  {
   "cell_type": "code",
   "execution_count": 32,
   "id": "bc2dc761-94e3-4bed-8111-2d614eafaf16",
   "metadata": {},
   "outputs": [
    {
     "name": "stdout",
     "output_type": "stream",
     "text": [
      "+---+--------------------+--------------------+--------------------+--------------------+------------+--------------------+---------------+----------+--------------------+-------+-----------+---------+--------+--------------------+---------+--------+--------------------+--------+\n",
      "| id|              mobile|               email|            password|          last_login|is_superuser|            username|      full_name|rollnumber|         forum_email|   role|     source|is_active|is_staff|          created_at|email_otp|     otp|          updated_at|  status|\n",
      "+---+--------------------+--------------------+--------------------+--------------------+------------+--------------------+---------------+----------+--------------------+-------+-----------+---------+--------+--------------------+---------+--------+--------------------+--------+\n",
      "|  1|          9999999999|       abc@gmail.com|pbkdf2_sha256$600...|2023-12-22 08:08:...|           1|               admin|       dffftttc|     10001|     admin@gmail.com|student|     school|        1|       1|2023-06-27 08:45:...|     NULL|    NULL|2023-07-05 13:09:...|  active|\n",
      "|  2|          9999999998|       bbc@gmail.com|pbkdf2_sha256$600...|                NULL|           1|              admin2|         admin2|     10002|  admin@forumias.com|student|     school|        1|       1|2023-06-27 08:45:...|    12345|   12354|2023-06-27 08:49:...|  active|\n",
      "|  3|          9999999997|       cbc@gmail.com|6652b423f33d1236e...|                NULL|           0|             dinesh2|   dinesh kumar|     10003|dineshkumar@forum...|student|        asd|        1|       0|2023-06-27 08:49:...|    12345|    asda|2023-07-26 11:17:...|  active|\n",
      "|  4|          9999999996|       dbc@gmail.com|1866a7b0c1407994a...|2023-07-03 06:19:...|           0|            dineshe3|  dineesh kumar|     10004|dineeshkumar@foru...|student|     school|        1|       0|2023-06-27 09:11:...|    12345|  deweff|2023-07-26 10:41:...|inactive|\n",
      "|  5|          9310195987|cietdinesh@gmail.com|e4d09637e0ddbb2ed...|                NULL|           0|        dineshrrtrr4|dinteshrr kumar|     10005|dinteshrrkumar@fo...|student|     school|        1|       0|2023-06-28 05:24:...|     adsf|fdgadesf|2023-09-14 08:58:...|  active|\n",
      "| 10|          9999999994|       fbc@gmail.com|3c18aedca8511f2a5...|                NULL|           0|               Test5| testdint kumar|     10006|testdintkumar@for...|student|       NULL|        1|       0|2023-06-30 07:40:...|     NULL|    NULL|2023-06-30 07:40:...|  active|\n",
      "| 11|          9999999993|     hhfbc@gmail.com|2a37676503667e61f...|2023-07-03 11:13:...|           0|             Testw10|testwdint kumar|     10007|testwdintkumar@fo...|student|       NULL|        1|       0|2023-06-30 07:48:...|     NULL|    NULL|2023-07-03 11:13:...|  active|\n",
      "| 12|          9999999992|       gbc@gmail.com|cecb3e77ecc2e3cc2...|                NULL|           0|        asdfsddmin11|     addsfsdmin|     10008|addsfsdmin@forumi...|student|Old Academy|        1|       0|2023-07-03 10:37:...|     NULL|    NULL|2023-07-03 10:37:...|  active|\n",
      "| 13|          9999999990|       hbc@gmail.com|59837b4d950a6552a...|                NULL|           0|     asdfsdsdfdmin12|  addsdfsfsdmin|     10009|addsdfsfsdmin@for...|student|Old Academy|        1|       0|2023-07-03 10:42:...|     NULL|    NULL|2023-07-03 10:42:...|  active|\n",
      "| 14|          9999999988|       ibc@gmail.com|925f9d20af881beb9...|                NULL|           0|       asdfsdfdmin13|    addfsfsdmin|     10010|addfsfsdmin@forum...|student|Old Academy|        1|       0|2023-07-03 10:42:...|     NULL|    NULL|2023-07-03 10:42:...|  active|\n",
      "| 15|          9310195922|ajaysiddharthkovi...|1f2bb5e8433e07a07...|2023-07-04 07:49:...|           0|ajaysiddharthkovi...|           Ajay|1910096705|ajaysiddharthkovi...|student|Old Academy|        1|       0|2023-07-04 07:49:...|     NULL|    NULL|2023-07-04 07:49:...|  active|\n",
      "| 16|          9310195911|dinesdsssfasdhk@g...|aab3bcdc6d034a835...|                NULL|           0|   dinesdsssfasdhk15|       sd kumar|1910096706|sdkumar@forumias.com|student|       NULL|        1|       0|2023-07-04 08:00:...|     NULL|    NULL|2023-07-04 08:00:...|  active|\n",
      "| 17|          9310195901|dinesdssdfsssdfas...|1bc5bfaaeb83f5436...|                NULL|           0|dinesdssdfsssdfas...|       sd kumar|1910096707|sdkumar16@forumia...|student|       NULL|        1|       0|2023-07-04 08:04:...|     NULL|    NULL|2023-07-04 08:04:...|  active|\n",
      "| 18|          9310195902|       kks@gmail.com|092bc8b73bcb7312c...|                NULL|           0|               kks17|       sd kumar|1910096708|sdkumar17@forumia...|student|       NULL|        1|       0|2023-07-04 08:08:...|     NULL|    NULL|2023-07-04 08:08:...|  active|\n",
      "| 19|          9310195986|     kkrsi@gmail.com|d7d591ca81bfb3e65...|2023-07-04 08:30:...|           0|             kkrsi18|       sd kumar|1910096709|sdkumar18@forumia...|student|     school|        1|       0|2023-07-04 08:26:...|    12345|   37187|2023-07-31 06:21:...|  active|\n",
      "| 21|b'gAAAAABko-ef8d9...|        mk@gmail.com|a64d17fb80232302f...|                NULL|           0|                mk20|       sd kumar|1910096711|sdkumar20@forumia...|student|       NULL|        1|       0|2023-07-04 09:34:...|     NULL|    NULL|2023-07-04 09:34:...|  active|\n",
      "| 22|b'gAAAAABko-qQGZc...|       mky@gmail.com|b872fe47ca92cdf06...|                NULL|           0|               mky21|       sd kumar|1910096712|sdkumar21@forumia...|student|       NULL|        1|       0|2023-07-04 09:46:...|     NULL|    NULL|2023-07-04 09:46:...|  active|\n",
      "| 23|b'gAAAAABko-rRkhn...|      dmky@gmail.com|85ebc4911596ca363...|                NULL|           0|              dmky22|       sd kumar|1910096713|sdkumar22@forumia...|student|       NULL|        1|       0|2023-07-04 09:48:...|     NULL|    NULL|2023-07-04 09:48:...|  active|\n",
      "| 24|b'gAAAAABko_aOhf5...|       dmo@gmail.com|c94c45399855fbf0f...|                NULL|           0|               dmo23|       sd kumar|1910096714|sdkumar23@forumia...|student|       NULL|        1|       0|2023-07-04 10:38:...|     NULL|    NULL|2023-07-04 10:38:...|  active|\n",
      "| 25|b'gAAAAABko_jD52P...|      dmoo@gmail.com|c38bf35a0becd70d1...|                NULL|           0|              dmoo24|       sd kumar|1910096715|sdkumar24@forumia...|student|       NULL|        1|       0|2023-07-04 10:47:...|     NULL|    NULL|2023-07-04 10:47:...|  active|\n",
      "+---+--------------------+--------------------+--------------------+--------------------+------------+--------------------+---------------+----------+--------------------+-------+-----------+---------+--------+--------------------+---------+--------+--------------------+--------+\n",
      "only showing top 20 rows\n",
      "\n"
     ]
    }
   ],
   "source": [
    "df.show()"
   ]
  },
  {
   "cell_type": "code",
   "execution_count": 33,
   "id": "350d0d86-69a4-4931-8dba-87881babc78e",
   "metadata": {},
   "outputs": [],
   "source": [
    "df = df.na.drop()"
   ]
  },
  {
   "cell_type": "code",
   "execution_count": 34,
   "id": "710e90c7-f1e0-4ec5-ab4d-995f6c13d40a",
   "metadata": {},
   "outputs": [
    {
     "name": "stdout",
     "output_type": "stream",
     "text": [
      "+---+--------------------+--------------------+--------------------+--------------------+------------+--------------------+---------------+----------+--------------------+-------+-----------+---------+--------+--------------------+---------+--------+--------------------+--------+\n",
      "| id|              mobile|               email|            password|          last_login|is_superuser|            username|      full_name|rollnumber|         forum_email|   role|     source|is_active|is_staff|          created_at|email_otp|     otp|          updated_at|  status|\n",
      "+---+--------------------+--------------------+--------------------+--------------------+------------+--------------------+---------------+----------+--------------------+-------+-----------+---------+--------+--------------------+---------+--------+--------------------+--------+\n",
      "|  1|          9999999999|       abc@gmail.com|pbkdf2_sha256$600...|2023-12-22 08:08:...|           1|               admin|       dffftttc|     10001|     admin@gmail.com|student|     school|        1|       1|2023-06-27 08:45:...|     NULL|    NULL|2023-07-05 13:09:...|  active|\n",
      "|  2|          9999999998|       bbc@gmail.com|pbkdf2_sha256$600...|                NULL|           1|              admin2|         admin2|     10002|  admin@forumias.com|student|     school|        1|       1|2023-06-27 08:45:...|    12345|   12354|2023-06-27 08:49:...|  active|\n",
      "|  3|          9999999997|       cbc@gmail.com|6652b423f33d1236e...|                NULL|           0|             dinesh2|   dinesh kumar|     10003|dineshkumar@forum...|student|        asd|        1|       0|2023-06-27 08:49:...|    12345|    asda|2023-07-26 11:17:...|  active|\n",
      "|  4|          9999999996|       dbc@gmail.com|1866a7b0c1407994a...|2023-07-03 06:19:...|           0|            dineshe3|  dineesh kumar|     10004|dineeshkumar@foru...|student|     school|        1|       0|2023-06-27 09:11:...|    12345|  deweff|2023-07-26 10:41:...|inactive|\n",
      "|  5|          9310195987|cietdinesh@gmail.com|e4d09637e0ddbb2ed...|                NULL|           0|        dineshrrtrr4|dinteshrr kumar|     10005|dinteshrrkumar@fo...|student|     school|        1|       0|2023-06-28 05:24:...|     adsf|fdgadesf|2023-09-14 08:58:...|  active|\n",
      "| 10|          9999999994|       fbc@gmail.com|3c18aedca8511f2a5...|                NULL|           0|               Test5| testdint kumar|     10006|testdintkumar@for...|student|       NULL|        1|       0|2023-06-30 07:40:...|     NULL|    NULL|2023-06-30 07:40:...|  active|\n",
      "| 11|          9999999993|     hhfbc@gmail.com|2a37676503667e61f...|2023-07-03 11:13:...|           0|             Testw10|testwdint kumar|     10007|testwdintkumar@fo...|student|       NULL|        1|       0|2023-06-30 07:48:...|     NULL|    NULL|2023-07-03 11:13:...|  active|\n",
      "| 12|          9999999992|       gbc@gmail.com|cecb3e77ecc2e3cc2...|                NULL|           0|        asdfsddmin11|     addsfsdmin|     10008|addsfsdmin@forumi...|student|Old Academy|        1|       0|2023-07-03 10:37:...|     NULL|    NULL|2023-07-03 10:37:...|  active|\n",
      "| 13|          9999999990|       hbc@gmail.com|59837b4d950a6552a...|                NULL|           0|     asdfsdsdfdmin12|  addsdfsfsdmin|     10009|addsdfsfsdmin@for...|student|Old Academy|        1|       0|2023-07-03 10:42:...|     NULL|    NULL|2023-07-03 10:42:...|  active|\n",
      "| 14|          9999999988|       ibc@gmail.com|925f9d20af881beb9...|                NULL|           0|       asdfsdfdmin13|    addfsfsdmin|     10010|addfsfsdmin@forum...|student|Old Academy|        1|       0|2023-07-03 10:42:...|     NULL|    NULL|2023-07-03 10:42:...|  active|\n",
      "| 15|          9310195922|ajaysiddharthkovi...|1f2bb5e8433e07a07...|2023-07-04 07:49:...|           0|ajaysiddharthkovi...|           Ajay|1910096705|ajaysiddharthkovi...|student|Old Academy|        1|       0|2023-07-04 07:49:...|     NULL|    NULL|2023-07-04 07:49:...|  active|\n",
      "| 16|          9310195911|dinesdsssfasdhk@g...|aab3bcdc6d034a835...|                NULL|           0|   dinesdsssfasdhk15|       sd kumar|1910096706|sdkumar@forumias.com|student|       NULL|        1|       0|2023-07-04 08:00:...|     NULL|    NULL|2023-07-04 08:00:...|  active|\n",
      "| 17|          9310195901|dinesdssdfsssdfas...|1bc5bfaaeb83f5436...|                NULL|           0|dinesdssdfsssdfas...|       sd kumar|1910096707|sdkumar16@forumia...|student|       NULL|        1|       0|2023-07-04 08:04:...|     NULL|    NULL|2023-07-04 08:04:...|  active|\n",
      "| 18|          9310195902|       kks@gmail.com|092bc8b73bcb7312c...|                NULL|           0|               kks17|       sd kumar|1910096708|sdkumar17@forumia...|student|       NULL|        1|       0|2023-07-04 08:08:...|     NULL|    NULL|2023-07-04 08:08:...|  active|\n",
      "| 19|          9310195986|     kkrsi@gmail.com|d7d591ca81bfb3e65...|2023-07-04 08:30:...|           0|             kkrsi18|       sd kumar|1910096709|sdkumar18@forumia...|student|     school|        1|       0|2023-07-04 08:26:...|    12345|   37187|2023-07-31 06:21:...|  active|\n",
      "| 21|b'gAAAAABko-ef8d9...|        mk@gmail.com|a64d17fb80232302f...|                NULL|           0|                mk20|       sd kumar|1910096711|sdkumar20@forumia...|student|       NULL|        1|       0|2023-07-04 09:34:...|     NULL|    NULL|2023-07-04 09:34:...|  active|\n",
      "| 22|b'gAAAAABko-qQGZc...|       mky@gmail.com|b872fe47ca92cdf06...|                NULL|           0|               mky21|       sd kumar|1910096712|sdkumar21@forumia...|student|       NULL|        1|       0|2023-07-04 09:46:...|     NULL|    NULL|2023-07-04 09:46:...|  active|\n",
      "| 23|b'gAAAAABko-rRkhn...|      dmky@gmail.com|85ebc4911596ca363...|                NULL|           0|              dmky22|       sd kumar|1910096713|sdkumar22@forumia...|student|       NULL|        1|       0|2023-07-04 09:48:...|     NULL|    NULL|2023-07-04 09:48:...|  active|\n",
      "| 24|b'gAAAAABko_aOhf5...|       dmo@gmail.com|c94c45399855fbf0f...|                NULL|           0|               dmo23|       sd kumar|1910096714|sdkumar23@forumia...|student|       NULL|        1|       0|2023-07-04 10:38:...|     NULL|    NULL|2023-07-04 10:38:...|  active|\n",
      "| 25|b'gAAAAABko_jD52P...|      dmoo@gmail.com|c38bf35a0becd70d1...|                NULL|           0|              dmoo24|       sd kumar|1910096715|sdkumar24@forumia...|student|       NULL|        1|       0|2023-07-04 10:47:...|     NULL|    NULL|2023-07-04 10:47:...|  active|\n",
      "+---+--------------------+--------------------+--------------------+--------------------+------------+--------------------+---------------+----------+--------------------+-------+-----------+---------+--------+--------------------+---------+--------+--------------------+--------+\n",
      "only showing top 20 rows\n",
      "\n"
     ]
    }
   ],
   "source": [
    "df.show()"
   ]
  },
  {
   "cell_type": "code",
   "execution_count": 35,
   "id": "41c7ca5f-3e93-4a16-9ec3-c79afcb05d65",
   "metadata": {},
   "outputs": [],
   "source": [
    "df = df.na.drop(how='any')"
   ]
  },
  {
   "cell_type": "code",
   "execution_count": 36,
   "id": "259d9d48-904f-468e-aa20-1c7d354610cf",
   "metadata": {},
   "outputs": [
    {
     "name": "stdout",
     "output_type": "stream",
     "text": [
      "+---+--------------------+--------------------+--------------------+--------------------+------------+--------------------+---------------+----------+--------------------+-------+-----------+---------+--------+--------------------+---------+--------+--------------------+--------+\n",
      "| id|              mobile|               email|            password|          last_login|is_superuser|            username|      full_name|rollnumber|         forum_email|   role|     source|is_active|is_staff|          created_at|email_otp|     otp|          updated_at|  status|\n",
      "+---+--------------------+--------------------+--------------------+--------------------+------------+--------------------+---------------+----------+--------------------+-------+-----------+---------+--------+--------------------+---------+--------+--------------------+--------+\n",
      "|  1|          9999999999|       abc@gmail.com|pbkdf2_sha256$600...|2023-12-22 08:08:...|           1|               admin|       dffftttc|     10001|     admin@gmail.com|student|     school|        1|       1|2023-06-27 08:45:...|     NULL|    NULL|2023-07-05 13:09:...|  active|\n",
      "|  2|          9999999998|       bbc@gmail.com|pbkdf2_sha256$600...|                NULL|           1|              admin2|         admin2|     10002|  admin@forumias.com|student|     school|        1|       1|2023-06-27 08:45:...|    12345|   12354|2023-06-27 08:49:...|  active|\n",
      "|  3|          9999999997|       cbc@gmail.com|6652b423f33d1236e...|                NULL|           0|             dinesh2|   dinesh kumar|     10003|dineshkumar@forum...|student|        asd|        1|       0|2023-06-27 08:49:...|    12345|    asda|2023-07-26 11:17:...|  active|\n",
      "|  4|          9999999996|       dbc@gmail.com|1866a7b0c1407994a...|2023-07-03 06:19:...|           0|            dineshe3|  dineesh kumar|     10004|dineeshkumar@foru...|student|     school|        1|       0|2023-06-27 09:11:...|    12345|  deweff|2023-07-26 10:41:...|inactive|\n",
      "|  5|          9310195987|cietdinesh@gmail.com|e4d09637e0ddbb2ed...|                NULL|           0|        dineshrrtrr4|dinteshrr kumar|     10005|dinteshrrkumar@fo...|student|     school|        1|       0|2023-06-28 05:24:...|     adsf|fdgadesf|2023-09-14 08:58:...|  active|\n",
      "| 10|          9999999994|       fbc@gmail.com|3c18aedca8511f2a5...|                NULL|           0|               Test5| testdint kumar|     10006|testdintkumar@for...|student|       NULL|        1|       0|2023-06-30 07:40:...|     NULL|    NULL|2023-06-30 07:40:...|  active|\n",
      "| 11|          9999999993|     hhfbc@gmail.com|2a37676503667e61f...|2023-07-03 11:13:...|           0|             Testw10|testwdint kumar|     10007|testwdintkumar@fo...|student|       NULL|        1|       0|2023-06-30 07:48:...|     NULL|    NULL|2023-07-03 11:13:...|  active|\n",
      "| 12|          9999999992|       gbc@gmail.com|cecb3e77ecc2e3cc2...|                NULL|           0|        asdfsddmin11|     addsfsdmin|     10008|addsfsdmin@forumi...|student|Old Academy|        1|       0|2023-07-03 10:37:...|     NULL|    NULL|2023-07-03 10:37:...|  active|\n",
      "| 13|          9999999990|       hbc@gmail.com|59837b4d950a6552a...|                NULL|           0|     asdfsdsdfdmin12|  addsdfsfsdmin|     10009|addsdfsfsdmin@for...|student|Old Academy|        1|       0|2023-07-03 10:42:...|     NULL|    NULL|2023-07-03 10:42:...|  active|\n",
      "| 14|          9999999988|       ibc@gmail.com|925f9d20af881beb9...|                NULL|           0|       asdfsdfdmin13|    addfsfsdmin|     10010|addfsfsdmin@forum...|student|Old Academy|        1|       0|2023-07-03 10:42:...|     NULL|    NULL|2023-07-03 10:42:...|  active|\n",
      "| 15|          9310195922|ajaysiddharthkovi...|1f2bb5e8433e07a07...|2023-07-04 07:49:...|           0|ajaysiddharthkovi...|           Ajay|1910096705|ajaysiddharthkovi...|student|Old Academy|        1|       0|2023-07-04 07:49:...|     NULL|    NULL|2023-07-04 07:49:...|  active|\n",
      "| 16|          9310195911|dinesdsssfasdhk@g...|aab3bcdc6d034a835...|                NULL|           0|   dinesdsssfasdhk15|       sd kumar|1910096706|sdkumar@forumias.com|student|       NULL|        1|       0|2023-07-04 08:00:...|     NULL|    NULL|2023-07-04 08:00:...|  active|\n",
      "| 17|          9310195901|dinesdssdfsssdfas...|1bc5bfaaeb83f5436...|                NULL|           0|dinesdssdfsssdfas...|       sd kumar|1910096707|sdkumar16@forumia...|student|       NULL|        1|       0|2023-07-04 08:04:...|     NULL|    NULL|2023-07-04 08:04:...|  active|\n",
      "| 18|          9310195902|       kks@gmail.com|092bc8b73bcb7312c...|                NULL|           0|               kks17|       sd kumar|1910096708|sdkumar17@forumia...|student|       NULL|        1|       0|2023-07-04 08:08:...|     NULL|    NULL|2023-07-04 08:08:...|  active|\n",
      "| 19|          9310195986|     kkrsi@gmail.com|d7d591ca81bfb3e65...|2023-07-04 08:30:...|           0|             kkrsi18|       sd kumar|1910096709|sdkumar18@forumia...|student|     school|        1|       0|2023-07-04 08:26:...|    12345|   37187|2023-07-31 06:21:...|  active|\n",
      "| 21|b'gAAAAABko-ef8d9...|        mk@gmail.com|a64d17fb80232302f...|                NULL|           0|                mk20|       sd kumar|1910096711|sdkumar20@forumia...|student|       NULL|        1|       0|2023-07-04 09:34:...|     NULL|    NULL|2023-07-04 09:34:...|  active|\n",
      "| 22|b'gAAAAABko-qQGZc...|       mky@gmail.com|b872fe47ca92cdf06...|                NULL|           0|               mky21|       sd kumar|1910096712|sdkumar21@forumia...|student|       NULL|        1|       0|2023-07-04 09:46:...|     NULL|    NULL|2023-07-04 09:46:...|  active|\n",
      "| 23|b'gAAAAABko-rRkhn...|      dmky@gmail.com|85ebc4911596ca363...|                NULL|           0|              dmky22|       sd kumar|1910096713|sdkumar22@forumia...|student|       NULL|        1|       0|2023-07-04 09:48:...|     NULL|    NULL|2023-07-04 09:48:...|  active|\n",
      "| 24|b'gAAAAABko_aOhf5...|       dmo@gmail.com|c94c45399855fbf0f...|                NULL|           0|               dmo23|       sd kumar|1910096714|sdkumar23@forumia...|student|       NULL|        1|       0|2023-07-04 10:38:...|     NULL|    NULL|2023-07-04 10:38:...|  active|\n",
      "| 25|b'gAAAAABko_jD52P...|      dmoo@gmail.com|c38bf35a0becd70d1...|                NULL|           0|              dmoo24|       sd kumar|1910096715|sdkumar24@forumia...|student|       NULL|        1|       0|2023-07-04 10:47:...|     NULL|    NULL|2023-07-04 10:47:...|  active|\n",
      "+---+--------------------+--------------------+--------------------+--------------------+------------+--------------------+---------------+----------+--------------------+-------+-----------+---------+--------+--------------------+---------+--------+--------------------+--------+\n",
      "only showing top 20 rows\n",
      "\n"
     ]
    }
   ],
   "source": [
    "df.show()"
   ]
  },
  {
   "cell_type": "code",
   "execution_count": 38,
   "id": "22109e53-1239-443c-a341-a2db5fe6f823",
   "metadata": {},
   "outputs": [
    {
     "name": "stdout",
     "output_type": "stream",
     "text": [
      "+---+--------------------+--------------------+--------------------+--------------------+------------+--------------------+---------------+----------+--------------------+-------+-----------+---------+--------+--------------------+---------+--------+--------------------+--------+\n",
      "| id|              mobile|               email|            password|          last_login|is_superuser|            username|      full_name|rollnumber|         forum_email|   role|     source|is_active|is_staff|          created_at|email_otp|     otp|          updated_at|  status|\n",
      "+---+--------------------+--------------------+--------------------+--------------------+------------+--------------------+---------------+----------+--------------------+-------+-----------+---------+--------+--------------------+---------+--------+--------------------+--------+\n",
      "|  1|          9999999999|       abc@gmail.com|pbkdf2_sha256$600...|2023-12-22 08:08:...|           1|               admin|       dffftttc|     10001|     admin@gmail.com|student|     school|        1|       1|2023-06-27 08:45:...|     NULL|    NULL|2023-07-05 13:09:...|  active|\n",
      "|  2|          9999999998|       bbc@gmail.com|pbkdf2_sha256$600...|                NULL|           1|              admin2|         admin2|     10002|  admin@forumias.com|student|     school|        1|       1|2023-06-27 08:45:...|    12345|   12354|2023-06-27 08:49:...|  active|\n",
      "|  3|          9999999997|       cbc@gmail.com|6652b423f33d1236e...|                NULL|           0|             dinesh2|   dinesh kumar|     10003|dineshkumar@forum...|student|        asd|        1|       0|2023-06-27 08:49:...|    12345|    asda|2023-07-26 11:17:...|  active|\n",
      "|  4|          9999999996|       dbc@gmail.com|1866a7b0c1407994a...|2023-07-03 06:19:...|           0|            dineshe3|  dineesh kumar|     10004|dineeshkumar@foru...|student|     school|        1|       0|2023-06-27 09:11:...|    12345|  deweff|2023-07-26 10:41:...|inactive|\n",
      "|  5|          9310195987|cietdinesh@gmail.com|e4d09637e0ddbb2ed...|                NULL|           0|        dineshrrtrr4|dinteshrr kumar|     10005|dinteshrrkumar@fo...|student|     school|        1|       0|2023-06-28 05:24:...|     adsf|fdgadesf|2023-09-14 08:58:...|  active|\n",
      "| 10|          9999999994|       fbc@gmail.com|3c18aedca8511f2a5...|                NULL|           0|               Test5| testdint kumar|     10006|testdintkumar@for...|student|       NULL|        1|       0|2023-06-30 07:40:...|     NULL|    NULL|2023-06-30 07:40:...|  active|\n",
      "| 11|          9999999993|     hhfbc@gmail.com|2a37676503667e61f...|2023-07-03 11:13:...|           0|             Testw10|testwdint kumar|     10007|testwdintkumar@fo...|student|       NULL|        1|       0|2023-06-30 07:48:...|     NULL|    NULL|2023-07-03 11:13:...|  active|\n",
      "| 12|          9999999992|       gbc@gmail.com|cecb3e77ecc2e3cc2...|                NULL|           0|        asdfsddmin11|     addsfsdmin|     10008|addsfsdmin@forumi...|student|Old Academy|        1|       0|2023-07-03 10:37:...|     NULL|    NULL|2023-07-03 10:37:...|  active|\n",
      "| 13|          9999999990|       hbc@gmail.com|59837b4d950a6552a...|                NULL|           0|     asdfsdsdfdmin12|  addsdfsfsdmin|     10009|addsdfsfsdmin@for...|student|Old Academy|        1|       0|2023-07-03 10:42:...|     NULL|    NULL|2023-07-03 10:42:...|  active|\n",
      "| 14|          9999999988|       ibc@gmail.com|925f9d20af881beb9...|                NULL|           0|       asdfsdfdmin13|    addfsfsdmin|     10010|addfsfsdmin@forum...|student|Old Academy|        1|       0|2023-07-03 10:42:...|     NULL|    NULL|2023-07-03 10:42:...|  active|\n",
      "| 15|          9310195922|ajaysiddharthkovi...|1f2bb5e8433e07a07...|2023-07-04 07:49:...|           0|ajaysiddharthkovi...|           Ajay|1910096705|ajaysiddharthkovi...|student|Old Academy|        1|       0|2023-07-04 07:49:...|     NULL|    NULL|2023-07-04 07:49:...|  active|\n",
      "| 16|          9310195911|dinesdsssfasdhk@g...|aab3bcdc6d034a835...|                NULL|           0|   dinesdsssfasdhk15|       sd kumar|1910096706|sdkumar@forumias.com|student|       NULL|        1|       0|2023-07-04 08:00:...|     NULL|    NULL|2023-07-04 08:00:...|  active|\n",
      "| 17|          9310195901|dinesdssdfsssdfas...|1bc5bfaaeb83f5436...|                NULL|           0|dinesdssdfsssdfas...|       sd kumar|1910096707|sdkumar16@forumia...|student|       NULL|        1|       0|2023-07-04 08:04:...|     NULL|    NULL|2023-07-04 08:04:...|  active|\n",
      "| 18|          9310195902|       kks@gmail.com|092bc8b73bcb7312c...|                NULL|           0|               kks17|       sd kumar|1910096708|sdkumar17@forumia...|student|       NULL|        1|       0|2023-07-04 08:08:...|     NULL|    NULL|2023-07-04 08:08:...|  active|\n",
      "| 19|          9310195986|     kkrsi@gmail.com|d7d591ca81bfb3e65...|2023-07-04 08:30:...|           0|             kkrsi18|       sd kumar|1910096709|sdkumar18@forumia...|student|     school|        1|       0|2023-07-04 08:26:...|    12345|   37187|2023-07-31 06:21:...|  active|\n",
      "| 21|b'gAAAAABko-ef8d9...|        mk@gmail.com|a64d17fb80232302f...|                NULL|           0|                mk20|       sd kumar|1910096711|sdkumar20@forumia...|student|       NULL|        1|       0|2023-07-04 09:34:...|     NULL|    NULL|2023-07-04 09:34:...|  active|\n",
      "| 22|b'gAAAAABko-qQGZc...|       mky@gmail.com|b872fe47ca92cdf06...|                NULL|           0|               mky21|       sd kumar|1910096712|sdkumar21@forumia...|student|       NULL|        1|       0|2023-07-04 09:46:...|     NULL|    NULL|2023-07-04 09:46:...|  active|\n",
      "| 23|b'gAAAAABko-rRkhn...|      dmky@gmail.com|85ebc4911596ca363...|                NULL|           0|              dmky22|       sd kumar|1910096713|sdkumar22@forumia...|student|       NULL|        1|       0|2023-07-04 09:48:...|     NULL|    NULL|2023-07-04 09:48:...|  active|\n",
      "| 24|b'gAAAAABko_aOhf5...|       dmo@gmail.com|c94c45399855fbf0f...|                NULL|           0|               dmo23|       sd kumar|1910096714|sdkumar23@forumia...|student|       NULL|        1|       0|2023-07-04 10:38:...|     NULL|    NULL|2023-07-04 10:38:...|  active|\n",
      "| 25|b'gAAAAABko_jD52P...|      dmoo@gmail.com|c38bf35a0becd70d1...|                NULL|           0|              dmoo24|       sd kumar|1910096715|sdkumar24@forumia...|student|       NULL|        1|       0|2023-07-04 10:47:...|     NULL|    NULL|2023-07-04 10:47:...|  active|\n",
      "+---+--------------------+--------------------+--------------------+--------------------+------------+--------------------+---------------+----------+--------------------+-------+-----------+---------+--------+--------------------+---------+--------+--------------------+--------+\n",
      "only showing top 20 rows\n",
      "\n"
     ]
    }
   ],
   "source": [
    "df.na.fill(value=111).show()"
   ]
  },
  {
   "cell_type": "code",
   "execution_count": 42,
   "id": "c3194ebf-7050-460b-a1fc-5be839eaf781",
   "metadata": {},
   "outputs": [],
   "source": [
    "from pyspark.ml.feature import Imputer"
   ]
  },
  {
   "cell_type": "code",
   "execution_count": 44,
   "id": "ed10b805-face-400b-8145-725740ab03a6",
   "metadata": {},
   "outputs": [
    {
     "name": "stdout",
     "output_type": "stream",
     "text": [
      "+---+----------+--------------------+--------------------+--------------------+------------+------------+---------------+----------+--------------------+-------+------+---------+--------+--------------------+---------+--------+--------------------+--------+\n",
      "| id|    mobile|               email|            password|          last_login|is_superuser|    username|      full_name|rollnumber|         forum_email|   role|source|is_active|is_staff|          created_at|email_otp|     otp|          updated_at|  status|\n",
      "+---+----------+--------------------+--------------------+--------------------+------------+------------+---------------+----------+--------------------+-------+------+---------+--------+--------------------+---------+--------+--------------------+--------+\n",
      "|  1|9999999999|       abc@gmail.com|pbkdf2_sha256$600...|2023-12-22 08:08:...|           1|       admin|       dffftttc|     10001|     admin@gmail.com|student|school|        1|       1|2023-06-27 08:45:...|     NULL|    NULL|2023-07-05 13:09:...|  active|\n",
      "|  2|9999999998|       bbc@gmail.com|pbkdf2_sha256$600...|                NULL|           1|      admin2|         admin2|     10002|  admin@forumias.com|student|school|        1|       1|2023-06-27 08:45:...|    12345|   12354|2023-06-27 08:49:...|  active|\n",
      "|  3|9999999997|       cbc@gmail.com|6652b423f33d1236e...|                NULL|           0|     dinesh2|   dinesh kumar|     10003|dineshkumar@forum...|student|   asd|        1|       0|2023-06-27 08:49:...|    12345|    asda|2023-07-26 11:17:...|  active|\n",
      "|  4|9999999996|       dbc@gmail.com|1866a7b0c1407994a...|2023-07-03 06:19:...|           0|    dineshe3|  dineesh kumar|     10004|dineeshkumar@foru...|student|school|        1|       0|2023-06-27 09:11:...|    12345|  deweff|2023-07-26 10:41:...|inactive|\n",
      "|  5|9310195987|cietdinesh@gmail.com|e4d09637e0ddbb2ed...|                NULL|           0|dineshrrtrr4|dinteshrr kumar|     10005|dinteshrrkumar@fo...|student|school|        1|       0|2023-06-28 05:24:...|     adsf|fdgadesf|2023-09-14 08:58:...|  active|\n",
      "+---+----------+--------------------+--------------------+--------------------+------------+------------+---------------+----------+--------------------+-------+------+---------+--------+--------------------+---------+--------+--------------------+--------+\n",
      "\n"
     ]
    }
   ],
   "source": [
    "df.filter(\"id <10\").show()"
   ]
  },
  {
   "cell_type": "code",
   "execution_count": 45,
   "id": "5f4fc397-3df1-409f-96c5-62570e0a2793",
   "metadata": {},
   "outputs": [
    {
     "name": "stdout",
     "output_type": "stream",
     "text": [
      "+---+----------+--------------------+--------------------+--------------------+------------+------------+---------------+----------+--------------------+-------+------+---------+--------+--------------------+---------+--------+--------------------+--------+\n",
      "| id|    mobile|               email|            password|          last_login|is_superuser|    username|      full_name|rollnumber|         forum_email|   role|source|is_active|is_staff|          created_at|email_otp|     otp|          updated_at|  status|\n",
      "+---+----------+--------------------+--------------------+--------------------+------------+------------+---------------+----------+--------------------+-------+------+---------+--------+--------------------+---------+--------+--------------------+--------+\n",
      "|  1|9999999999|       abc@gmail.com|pbkdf2_sha256$600...|2023-12-22 08:08:...|           1|       admin|       dffftttc|     10001|     admin@gmail.com|student|school|        1|       1|2023-06-27 08:45:...|     NULL|    NULL|2023-07-05 13:09:...|  active|\n",
      "|  2|9999999998|       bbc@gmail.com|pbkdf2_sha256$600...|                NULL|           1|      admin2|         admin2|     10002|  admin@forumias.com|student|school|        1|       1|2023-06-27 08:45:...|    12345|   12354|2023-06-27 08:49:...|  active|\n",
      "|  3|9999999997|       cbc@gmail.com|6652b423f33d1236e...|                NULL|           0|     dinesh2|   dinesh kumar|     10003|dineshkumar@forum...|student|   asd|        1|       0|2023-06-27 08:49:...|    12345|    asda|2023-07-26 11:17:...|  active|\n",
      "|  4|9999999996|       dbc@gmail.com|1866a7b0c1407994a...|2023-07-03 06:19:...|           0|    dineshe3|  dineesh kumar|     10004|dineeshkumar@foru...|student|school|        1|       0|2023-06-27 09:11:...|    12345|  deweff|2023-07-26 10:41:...|inactive|\n",
      "|  5|9310195987|cietdinesh@gmail.com|e4d09637e0ddbb2ed...|                NULL|           0|dineshrrtrr4|dinteshrr kumar|     10005|dinteshrrkumar@fo...|student|school|        1|       0|2023-06-28 05:24:...|     adsf|fdgadesf|2023-09-14 08:58:...|  active|\n",
      "+---+----------+--------------------+--------------------+--------------------+------------+------------+---------------+----------+--------------------+-------+------+---------+--------+--------------------+---------+--------+--------------------+--------+\n",
      "\n"
     ]
    }
   ],
   "source": [
    "df.filter(df.id <10).show()"
   ]
  },
  {
   "cell_type": "code",
   "execution_count": 47,
   "id": "d043b9d5-0fc0-476b-bb14-c79539b35d8e",
   "metadata": {},
   "outputs": [
    {
     "name": "stdout",
     "output_type": "stream",
     "text": [
      "+----------+--------------------+\n",
      "|    mobile|               email|\n",
      "+----------+--------------------+\n",
      "|9999999999|       abc@gmail.com|\n",
      "|9999999998|       bbc@gmail.com|\n",
      "|9999999997|       cbc@gmail.com|\n",
      "|9999999996|       dbc@gmail.com|\n",
      "|9310195987|cietdinesh@gmail.com|\n",
      "+----------+--------------------+\n",
      "\n"
     ]
    }
   ],
   "source": [
    "df.filter(df.id <10).select(\"mobile\",\"email\").show()"
   ]
  },
  {
   "cell_type": "code",
   "execution_count": null,
   "id": "c327980a-4daf-460a-b57b-ee1ea820811d",
   "metadata": {},
   "outputs": [],
   "source": []
  }
 ],
 "metadata": {
  "kernelspec": {
   "display_name": "Python 3 (ipykernel)",
   "language": "python",
   "name": "python3"
  },
  "language_info": {
   "codemirror_mode": {
    "name": "ipython",
    "version": 3
   },
   "file_extension": ".py",
   "mimetype": "text/x-python",
   "name": "python",
   "nbconvert_exporter": "python",
   "pygments_lexer": "ipython3",
   "version": "3.10.12"
  }
 },
 "nbformat": 4,
 "nbformat_minor": 5
}
